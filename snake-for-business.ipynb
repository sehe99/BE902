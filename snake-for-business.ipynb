{
 "cells": [
  {
   "cell_type": "code",
   "execution_count": 1,
   "metadata": {},
   "outputs": [
    {
     "name": "stdout",
     "output_type": "stream",
     "text": [
      "pygame 2.1.2 (SDL 2.0.18, Python 3.9.12)\n",
      "Hello from the pygame community. https://www.pygame.org/contribute.html\n",
      "Current position:  (15, 10) Board size:  (72, 48)\n",
      "15\n",
      "(1, 0)\n",
      "Current position:  (15, 10) Board size:  (72, 48)\n",
      "15\n"
     ]
    },
    {
     "ename": "TypeError",
     "evalue": "'NoneType' object is not subscriptable",
     "output_type": "error",
     "traceback": [
      "\u001b[0;31m---------------------------------------------------------------------------\u001b[0m",
      "\u001b[0;31mTypeError\u001b[0m                                 Traceback (most recent call last)",
      "Input \u001b[0;32mIn [1]\u001b[0m, in \u001b[0;36m<cell line: 58>\u001b[0;34m()\u001b[0m\n\u001b[1;32m     64\u001b[0m game_board\u001b[38;5;241m.\u001b[39mhandle_direction_input(next_move)\n\u001b[1;32m     65\u001b[0m \u001b[38;5;66;03m# Move the game logic another step\u001b[39;00m\n\u001b[0;32m---> 66\u001b[0m \u001b[43mgame_board\u001b[49m\u001b[38;5;241;43m.\u001b[39;49m\u001b[43mtick\u001b[49m\u001b[43m(\u001b[49m\u001b[43m)\u001b[49m\n\u001b[1;32m     67\u001b[0m \u001b[38;5;66;03m# update the visible part of the game\u001b[39;00m\n\u001b[1;32m     68\u001b[0m display\u001b[38;5;241m.\u001b[39mdraw()\n",
      "File \u001b[0;32m~/Downloads/assignment 2/board.py:67\u001b[0m, in \u001b[0;36mBoard.tick\u001b[0;34m(self)\u001b[0m\n\u001b[1;32m     65\u001b[0m \u001b[38;5;28;01mif\u001b[39;00m \u001b[38;5;28mself\u001b[39m\u001b[38;5;241m.\u001b[39mis_game_over():\n\u001b[1;32m     66\u001b[0m     \u001b[38;5;28;01mreturn\u001b[39;00m\n\u001b[0;32m---> 67\u001b[0m \u001b[38;5;28;43mself\u001b[39;49m\u001b[38;5;241;43m.\u001b[39;49m\u001b[43m_move_snake\u001b[49m\u001b[43m(\u001b[49m\u001b[38;5;28;43mself\u001b[39;49m\u001b[38;5;241;43m.\u001b[39;49m\u001b[43mapple\u001b[49m\u001b[43m)\u001b[49m\n\u001b[1;32m     68\u001b[0m \u001b[38;5;28;01mif\u001b[39;00m \u001b[38;5;28mself\u001b[39m\u001b[38;5;241m.\u001b[39mapple \u001b[38;5;241m==\u001b[39m \u001b[38;5;28mself\u001b[39m\u001b[38;5;241m.\u001b[39msnake\u001b[38;5;241m.\u001b[39mhead():\n\u001b[1;32m     69\u001b[0m     \u001b[38;5;28mself\u001b[39m\u001b[38;5;241m.\u001b[39m_generate_new_apple()\n",
      "File \u001b[0;32m~/Downloads/assignment 2/board.py:84\u001b[0m, in \u001b[0;36mBoard._move_snake\u001b[0;34m(self, apple)\u001b[0m\n\u001b[1;32m     81\u001b[0m \u001b[38;5;28;01mdef\u001b[39;00m \u001b[38;5;21m_move_snake\u001b[39m(\u001b[38;5;28mself\u001b[39m, apple: \u001b[38;5;28mtuple\u001b[39m) \u001b[38;5;241m-\u001b[39m\u001b[38;5;241m>\u001b[39m \u001b[38;5;28;01mNone\u001b[39;00m:\n\u001b[1;32m     82\u001b[0m     \u001b[38;5;66;03m# Calculate the next position of the head\u001b[39;00m\n\u001b[1;32m     83\u001b[0m     \u001b[38;5;66;03m# which is the one step in the direction the snake is travelling\u001b[39;00m\n\u001b[0;32m---> 84\u001b[0m     new_x_pos \u001b[38;5;241m=\u001b[39m \u001b[38;5;28mself\u001b[39m\u001b[38;5;241m.\u001b[39msnake\u001b[38;5;241m.\u001b[39mhead()[\u001b[38;5;241m0\u001b[39m] \u001b[38;5;241m+\u001b[39m \u001b[38;5;28;43mself\u001b[39;49m\u001b[38;5;241;43m.\u001b[39;49m\u001b[43msnake\u001b[49m\u001b[38;5;241;43m.\u001b[39;49m\u001b[43mlast_direction\u001b[49m\u001b[43m[\u001b[49m\u001b[38;5;241;43m0\u001b[39;49m\u001b[43m]\u001b[49m\n\u001b[1;32m     85\u001b[0m     new_y_pos \u001b[38;5;241m=\u001b[39m \u001b[38;5;28mself\u001b[39m\u001b[38;5;241m.\u001b[39msnake\u001b[38;5;241m.\u001b[39mhead()[\u001b[38;5;241m1\u001b[39m] \u001b[38;5;241m+\u001b[39m \u001b[38;5;28mself\u001b[39m\u001b[38;5;241m.\u001b[39msnake\u001b[38;5;241m.\u001b[39mlast_direction[\u001b[38;5;241m1\u001b[39m]\n\u001b[1;32m     86\u001b[0m     new_pos \u001b[38;5;241m=\u001b[39m (new_x_pos, new_y_pos)\n",
      "\u001b[0;31mTypeError\u001b[0m: 'NoneType' object is not subscriptable"
     ]
    }
   ],
   "source": [
    "import pygame\n",
    "import gamedisplay\n",
    "import board\n",
    "import snakeai\n",
    "import time\n",
    "import direction\n",
    "\n",
    "# game_speed difficulty settings\n",
    "# Easy       ->  10\n",
    "# Medium     ->  25\n",
    "# Hard       ->  50\n",
    "# Super hard ->  120\n",
    "GAME_SPEED = 10\n",
    "# Change here to switch between A.I and human\n",
    "USE_AI = False\n",
    "\n",
    "# This determins the resolution of the game\n",
    "# Pixels per game tile \n",
    "RESOLUTION_MULTIPLIER = 10\n",
    "\n",
    "# This creates a new board,\n",
    "# the board handles the logic of the game\n",
    "# but does not handle any of the graphics\n",
    "game_board = board.Board(\n",
    "    board_size_x= 72,\n",
    "    board_size_y=48  \n",
    ")\n",
    "\n",
    "# this creates a new game display,\n",
    "# this handles anything that is graphical\n",
    "display = gamedisplay.GameDisplay(game_board, \n",
    "    game_resolution_x=game_board.board_size_x*RESOLUTION_MULTIPLIER,\n",
    "    game_resolution_y=game_board.board_size_y*RESOLUTION_MULTIPLIER\n",
    ")\n",
    "\n",
    "# PyGame the framework that does most of the heavy lifting for us\n",
    "pygame.init()\n",
    "# Initiates the A.I\n",
    "ai = snakeai.SnakeAI()\n",
    "\n",
    "# FPS (frames per second) controller\n",
    "game_speed_control = pygame.time.Clock()\n",
    "#Check for the latest key pressed and return the corresponding direction\n",
    "def get_human_next_move():\n",
    "    for event in pygame.event.get():\n",
    "        # Whenever a key is pressed down\n",
    "        if event.type == pygame.KEYDOWN:\n",
    "            # W -> Up; S -> Down; A -> Left; D -> Right\n",
    "            if event.key == pygame.K_UP or event.key == ord('w'):\n",
    "                return direction.UP\n",
    "            if event.key == pygame.K_DOWN or event.key == ord('s'):\n",
    "                return direction.DOWN\n",
    "            if event.key == pygame.K_LEFT or event.key == ord('a'):\n",
    "                return direction.LEFT\n",
    "            if event.key == pygame.K_RIGHT or event.key == ord('d'):\n",
    "                return direction.RIGHT\n",
    "# Main logic\n",
    "while not game_board.is_game_over():\n",
    "    if USE_AI: \n",
    "        next_move = ai.get_next_move(game_board)\n",
    "    else:\n",
    "        next_move = get_human_next_move()\n",
    "    # Tell the game the next desired direction from the player\n",
    "    game_board.handle_direction_input(next_move)\n",
    "    # Move the game logic another step\n",
    "    game_board.tick()\n",
    "    # update the visible part of the game\n",
    "    display.draw()\n",
    "    # make sure the game pauses for a long enough time between each step\n",
    "    game_speed_control.tick(GAME_SPEED)\n",
    "\n",
    "# Game is over, draw the final message\n",
    "display.draw_game_over()\n",
    "# Sleep for 4 seconds before exiting the game\n",
    "time.sleep(4)\n",
    "# Make sure everything shuts down in an orderily fashion\n",
    "pygame.display.quit()\n",
    "pygame.quit()\n",
    "time.sleep(1)\n",
    "exit()"
   ]
  },
  {
   "cell_type": "code",
   "execution_count": null,
   "metadata": {},
   "outputs": [],
   "source": []
  }
 ],
 "metadata": {
  "kernelspec": {
   "display_name": "Python 3 (ipykernel)",
   "language": "python",
   "name": "python3"
  },
  "language_info": {
   "codemirror_mode": {
    "name": "ipython",
    "version": 3
   },
   "file_extension": ".py",
   "mimetype": "text/x-python",
   "name": "python",
   "nbconvert_exporter": "python",
   "pygments_lexer": "ipython3",
   "version": "3.9.12"
  }
 },
 "nbformat": 4,
 "nbformat_minor": 4
}
